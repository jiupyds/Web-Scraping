{
 "cells": [
  {
   "cell_type": "markdown",
   "metadata": {
    "id": "N-UdR0Z5O1NI"
   },
   "source": [
    "# Automação Web e Busca de Informações com Python\n",
    "\n",
    "#### Desafio: \n",
    "\n",
    "Trabalhamos em uma importadora e o preço dos nossos produtos é vinculado a cotação de:\n",
    "- Dólar\n",
    "- Euro\n",
    "- Ouro\n",
    "\n",
    "Precisamos pegar na internet, de forma automática, a cotação desses 3 itens e saber quanto devemos cobrar pelos nossos produtos, considerando uma margem de contribuição que temos na nossa base de dados.\n",
    "\n",
    "Base de Dados: https://drive.google.com/drive/folders/1o2lpxoi9heyQV1hIlsHXWSfDkBPtze-V?usp=sharing\n",
    "\n",
    "Para isso, vamos criar uma automação web:\n",
    "\n",
    "- Usaremos o selenium\n",
    "- Importante: baixar o webdriver"
   ]
  },
  {
   "cell_type": "code",
   "execution_count": 1,
   "metadata": {
    "id": "PFGWrsk2O1NQ"
   },
   "outputs": [
    {
     "name": "stdout",
     "output_type": "stream",
     "text": [
      "5.231445\n",
      "6.193769307\n",
      "302.37\n"
     ]
    }
   ],
   "source": [
    "# instalar o Selenium -> no prompt, pip install selenium.\n",
    "# google chrome -> chrome driver.\n",
    "\n",
    "from selenium import webdriver\n",
    "from selenium.webdriver.common.keys import Keys\n",
    "\n",
    "#abrir um navegador\n",
    "navegador = webdriver.Chrome()\n",
    "\n",
    "navegador.get('https://www.google.com.br/')\n",
    "\n",
    "#agora preciso pegar a cotação do dólar:\n",
    "\n",
    "#na pagina web, botão direito do mouse, inspecionar, setinha no canto esquerdo superior da pagina de códigos que abriu.\n",
    "#depois, botão direito do mouse em cima da caixa de escrever do google e Copy > Copy XPath.\n",
    "#cola dentro desse parenteses aí embaixo, depois digite .send_keys e coloque entre parenteses o que deseja procurar no Google.\n",
    "\n",
    "navegador.find_element_by_xpath('/html/body/div[1]/div[3]/form/div[1]/div[1]/div[1]/div/div[2]/input').send_keys('cotação dólar')\n",
    "navegador.find_element_by_xpath('/html/body/div[1]/div[3]/form/div[1]/div[1]/div[1]/div/div[2]/input').send_keys(Keys.ENTER)\n",
    "cotacao_dolar = navegador.find_element_by_xpath('//*[@id=\"knowledge-currency__updatable-data-column\"]/div[1]/div[2]/span[1]').get_attribute('data-value')\n",
    "print(cotacao_dolar)\n",
    "navegador.quit()\n",
    "\n",
    "#agora preciso pegar a cotação do Euro:\n",
    "\n",
    "navegador = webdriver.Chrome()\n",
    "navegador.get('https://www.google.com.br/')\n",
    "navegador.find_element_by_xpath('/html/body/div[1]/div[3]/form/div[1]/div[1]/div[1]/div/div[2]/input').send_keys('cotação euro')\n",
    "navegador.find_element_by_xpath('/html/body/div[1]/div[3]/form/div[1]/div[1]/div[1]/div/div[2]/input').send_keys(Keys.ENTER)\n",
    "cotacao_euro = navegador.find_element_by_xpath('//*[@id=\"knowledge-currency__updatable-data-column\"]/div[1]/div[2]/span[1]').get_attribute('data-value')\n",
    "print(cotacao_euro)\n",
    "navegador.quit()\n",
    "\n",
    "#agora preciso pegar a cotação do Ouro:\n",
    "\n",
    "navegador = webdriver.Chrome()\n",
    "navegador.get('https://www.melhorcambio.com/ouro-hoje')\n",
    "cotacao_ouro = navegador.find_element_by_xpath('//*[@id=\"comercial\"]').get_attribute('value')\n",
    "\n",
    "#trocar a vírgula que está na cotação do ouro por ponto pois o PYTHON só entende ponto e não entende vírgula.\n",
    "\n",
    "cotacao_ouro = cotacao_ouro.replace(',', '.')\n",
    "print(cotacao_ouro)\n",
    "navegador.quit()\n"
   ]
  },
  {
   "cell_type": "markdown",
   "metadata": {
    "id": "OOVfkadtO1NR"
   },
   "source": [
    "### Agora vamos atualiza a nossa base de preços com as novas cotações"
   ]
  },
  {
   "cell_type": "markdown",
   "metadata": {
    "id": "tZlqIw6YO1Nj"
   },
   "source": [
    "- Importando a base de dados"
   ]
  },
  {
   "cell_type": "code",
   "execution_count": 2,
   "metadata": {
    "id": "GH4AOVYcO1Nk",
    "scrolled": false
   },
   "outputs": [
    {
     "data": {
      "text/html": [
       "<div>\n",
       "<style scoped>\n",
       "    .dataframe tbody tr th:only-of-type {\n",
       "        vertical-align: middle;\n",
       "    }\n",
       "\n",
       "    .dataframe tbody tr th {\n",
       "        vertical-align: top;\n",
       "    }\n",
       "\n",
       "    .dataframe thead th {\n",
       "        text-align: right;\n",
       "    }\n",
       "</style>\n",
       "<table border=\"1\" class=\"dataframe\">\n",
       "  <thead>\n",
       "    <tr style=\"text-align: right;\">\n",
       "      <th></th>\n",
       "      <th>Produtos</th>\n",
       "      <th>Preço Base Original</th>\n",
       "      <th>Moeda</th>\n",
       "      <th>Cotação</th>\n",
       "      <th>Preço Base Reais</th>\n",
       "      <th>Margem</th>\n",
       "      <th>Preço Final</th>\n",
       "    </tr>\n",
       "  </thead>\n",
       "  <tbody>\n",
       "    <tr>\n",
       "      <th>0</th>\n",
       "      <td>Câmera Canon</td>\n",
       "      <td>999.99</td>\n",
       "      <td>Dólar</td>\n",
       "      <td>5.0405</td>\n",
       "      <td>5040.449595</td>\n",
       "      <td>1.40</td>\n",
       "      <td>7056.629433</td>\n",
       "    </tr>\n",
       "    <tr>\n",
       "      <th>1</th>\n",
       "      <td>Carro Renault</td>\n",
       "      <td>4500.00</td>\n",
       "      <td>Euro</td>\n",
       "      <td>5.9685</td>\n",
       "      <td>26858.250000</td>\n",
       "      <td>2.00</td>\n",
       "      <td>53716.500000</td>\n",
       "    </tr>\n",
       "    <tr>\n",
       "      <th>2</th>\n",
       "      <td>Notebook Dell</td>\n",
       "      <td>899.99</td>\n",
       "      <td>Dólar</td>\n",
       "      <td>5.0405</td>\n",
       "      <td>4536.399595</td>\n",
       "      <td>1.70</td>\n",
       "      <td>7711.879311</td>\n",
       "    </tr>\n",
       "    <tr>\n",
       "      <th>3</th>\n",
       "      <td>IPhone</td>\n",
       "      <td>799.00</td>\n",
       "      <td>Dólar</td>\n",
       "      <td>5.0405</td>\n",
       "      <td>4027.359500</td>\n",
       "      <td>1.70</td>\n",
       "      <td>6846.511150</td>\n",
       "    </tr>\n",
       "    <tr>\n",
       "      <th>4</th>\n",
       "      <td>Carro Fiat</td>\n",
       "      <td>3000.00</td>\n",
       "      <td>Euro</td>\n",
       "      <td>5.9685</td>\n",
       "      <td>17905.500000</td>\n",
       "      <td>1.90</td>\n",
       "      <td>34020.450000</td>\n",
       "    </tr>\n",
       "    <tr>\n",
       "      <th>5</th>\n",
       "      <td>Celular Xiaomi</td>\n",
       "      <td>480.48</td>\n",
       "      <td>Dólar</td>\n",
       "      <td>5.0405</td>\n",
       "      <td>2421.859440</td>\n",
       "      <td>2.00</td>\n",
       "      <td>4843.718880</td>\n",
       "    </tr>\n",
       "    <tr>\n",
       "      <th>6</th>\n",
       "      <td>Joia 20g</td>\n",
       "      <td>20.00</td>\n",
       "      <td>Ouro</td>\n",
       "      <td>288.8100</td>\n",
       "      <td>5776.200000</td>\n",
       "      <td>1.15</td>\n",
       "      <td>6642.630000</td>\n",
       "    </tr>\n",
       "  </tbody>\n",
       "</table>\n",
       "</div>"
      ],
      "text/plain": [
       "         Produtos  Preço Base Original  Moeda   Cotação  Preço Base Reais  \\\n",
       "0    Câmera Canon               999.99  Dólar    5.0405       5040.449595   \n",
       "1   Carro Renault              4500.00   Euro    5.9685      26858.250000   \n",
       "2   Notebook Dell               899.99  Dólar    5.0405       4536.399595   \n",
       "3          IPhone               799.00  Dólar    5.0405       4027.359500   \n",
       "4      Carro Fiat              3000.00   Euro    5.9685      17905.500000   \n",
       "5  Celular Xiaomi               480.48  Dólar    5.0405       2421.859440   \n",
       "6        Joia 20g                20.00   Ouro  288.8100       5776.200000   \n",
       "\n",
       "   Margem   Preço Final  \n",
       "0    1.40   7056.629433  \n",
       "1    2.00  53716.500000  \n",
       "2    1.70   7711.879311  \n",
       "3    1.70   6846.511150  \n",
       "4    1.90  34020.450000  \n",
       "5    2.00   4843.718880  \n",
       "6    1.15   6642.630000  "
      ]
     },
     "metadata": {},
     "output_type": "display_data"
    }
   ],
   "source": [
    "# Passo 4: Importar a lista de produtos da empresa\n",
    "import pandas as pd\n",
    "\n",
    "tabela = pd.read_excel('Produtos.xlsx')\n",
    "display(tabela)\n",
    "\n"
   ]
  },
  {
   "cell_type": "markdown",
   "metadata": {
    "id": "a742U-jpO1Nk"
   },
   "source": [
    "- Atualizando os preços e o cálculo do Preço Final"
   ]
  },
  {
   "cell_type": "code",
   "execution_count": 3,
   "metadata": {
    "id": "IKF-VOwMO1Nl"
   },
   "outputs": [
    {
     "data": {
      "text/html": [
       "<div>\n",
       "<style scoped>\n",
       "    .dataframe tbody tr th:only-of-type {\n",
       "        vertical-align: middle;\n",
       "    }\n",
       "\n",
       "    .dataframe tbody tr th {\n",
       "        vertical-align: top;\n",
       "    }\n",
       "\n",
       "    .dataframe thead th {\n",
       "        text-align: right;\n",
       "    }\n",
       "</style>\n",
       "<table border=\"1\" class=\"dataframe\">\n",
       "  <thead>\n",
       "    <tr style=\"text-align: right;\">\n",
       "      <th></th>\n",
       "      <th>Produtos</th>\n",
       "      <th>Preço Base Original</th>\n",
       "      <th>Moeda</th>\n",
       "      <th>Cotação</th>\n",
       "      <th>Preço Base Reais</th>\n",
       "      <th>Margem</th>\n",
       "      <th>Preço Final</th>\n",
       "    </tr>\n",
       "  </thead>\n",
       "  <tbody>\n",
       "    <tr>\n",
       "      <th>0</th>\n",
       "      <td>Câmera Canon</td>\n",
       "      <td>999.99</td>\n",
       "      <td>Dólar</td>\n",
       "      <td>5.231445</td>\n",
       "      <td>5231.392686</td>\n",
       "      <td>1.40</td>\n",
       "      <td>7323.949760</td>\n",
       "    </tr>\n",
       "    <tr>\n",
       "      <th>1</th>\n",
       "      <td>Carro Renault</td>\n",
       "      <td>4500.00</td>\n",
       "      <td>Euro</td>\n",
       "      <td>6.193769</td>\n",
       "      <td>27871.961881</td>\n",
       "      <td>2.00</td>\n",
       "      <td>55743.923763</td>\n",
       "    </tr>\n",
       "    <tr>\n",
       "      <th>2</th>\n",
       "      <td>Notebook Dell</td>\n",
       "      <td>899.99</td>\n",
       "      <td>Dólar</td>\n",
       "      <td>5.231445</td>\n",
       "      <td>4708.248186</td>\n",
       "      <td>1.70</td>\n",
       "      <td>8004.021915</td>\n",
       "    </tr>\n",
       "    <tr>\n",
       "      <th>3</th>\n",
       "      <td>IPhone</td>\n",
       "      <td>799.00</td>\n",
       "      <td>Dólar</td>\n",
       "      <td>5.231445</td>\n",
       "      <td>4179.924555</td>\n",
       "      <td>1.70</td>\n",
       "      <td>7105.871743</td>\n",
       "    </tr>\n",
       "    <tr>\n",
       "      <th>4</th>\n",
       "      <td>Carro Fiat</td>\n",
       "      <td>3000.00</td>\n",
       "      <td>Euro</td>\n",
       "      <td>6.193769</td>\n",
       "      <td>18581.307921</td>\n",
       "      <td>1.90</td>\n",
       "      <td>35304.485050</td>\n",
       "    </tr>\n",
       "    <tr>\n",
       "      <th>5</th>\n",
       "      <td>Celular Xiaomi</td>\n",
       "      <td>480.48</td>\n",
       "      <td>Dólar</td>\n",
       "      <td>5.231445</td>\n",
       "      <td>2513.604694</td>\n",
       "      <td>2.00</td>\n",
       "      <td>5027.209387</td>\n",
       "    </tr>\n",
       "    <tr>\n",
       "      <th>6</th>\n",
       "      <td>Joia 20g</td>\n",
       "      <td>20.00</td>\n",
       "      <td>Ouro</td>\n",
       "      <td>302.370000</td>\n",
       "      <td>6047.400000</td>\n",
       "      <td>1.15</td>\n",
       "      <td>6954.510000</td>\n",
       "    </tr>\n",
       "  </tbody>\n",
       "</table>\n",
       "</div>"
      ],
      "text/plain": [
       "         Produtos  Preço Base Original  Moeda     Cotação  Preço Base Reais  \\\n",
       "0    Câmera Canon               999.99  Dólar    5.231445       5231.392686   \n",
       "1   Carro Renault              4500.00   Euro    6.193769      27871.961881   \n",
       "2   Notebook Dell               899.99  Dólar    5.231445       4708.248186   \n",
       "3          IPhone               799.00  Dólar    5.231445       4179.924555   \n",
       "4      Carro Fiat              3000.00   Euro    6.193769      18581.307921   \n",
       "5  Celular Xiaomi               480.48  Dólar    5.231445       2513.604694   \n",
       "6        Joia 20g                20.00   Ouro  302.370000       6047.400000   \n",
       "\n",
       "   Margem   Preço Final  \n",
       "0    1.40   7323.949760  \n",
       "1    2.00  55743.923763  \n",
       "2    1.70   8004.021915  \n",
       "3    1.70   7105.871743  \n",
       "4    1.90  35304.485050  \n",
       "5    2.00   5027.209387  \n",
       "6    1.15   6954.510000  "
      ]
     },
     "metadata": {},
     "output_type": "display_data"
    }
   ],
   "source": [
    "# Passo 5: Recalcular o preço de cada produto\n",
    "# -> atualizar a cotação\n",
    "# -> nas linhas onde na coluna 'MOEDA' = 'DÓLAR'\n",
    "\n",
    "tabela.loc[tabela['Moeda']=='Dólar', 'Cotação'] = float(cotacao_dolar)\n",
    "tabela.loc[tabela['Moeda']=='Euro', 'Cotação'] = float(cotacao_euro)\n",
    "tabela.loc[tabela['Moeda']=='Ouro', 'Cotação'] = float(cotacao_ouro)\n",
    "\n",
    "# -> atualizar o PREÇO BASE REAIS (Preço Base Original * Cotação)\n",
    "tabela['Preço Base Reais'] = tabela['Preço Base Original'] * tabela['Cotação']\n",
    "\n",
    "# -> atualizar o PREÇO FINAL (Preço Base Reais * Mergem)\n",
    "tabela['Preço Final'] = tabela['Preço Base Reais'] * tabela['Margem']\n",
    "\n",
    "display(tabela)\n",
    "\n",
    "\n"
   ]
  },
  {
   "cell_type": "markdown",
   "metadata": {
    "id": "6W6jwuOKO1Nm"
   },
   "source": [
    "### Agora vamos exportar a nova base de preços atualizada"
   ]
  },
  {
   "cell_type": "code",
   "execution_count": 4,
   "metadata": {
    "id": "fauP3DFEO1Nm"
   },
   "outputs": [],
   "source": [
    "# Passo 6: Salvar os novos preços dos produtos\n",
    "# index = False , significa que eu não quero que os números no inicio ao lado direito da minha tabela estejam aparecendo.\n",
    "tabela.to_excel('Produtos2.xlsx', index=False)\n"
   ]
  },
  {
   "cell_type": "code",
   "execution_count": null,
   "metadata": {},
   "outputs": [],
   "source": []
  }
 ],
 "metadata": {
  "colab": {
   "name": "Arquivo Inicial - Aula 4.ipynb",
   "provenance": []
  },
  "kernelspec": {
   "display_name": "Python 3",
   "language": "python",
   "name": "python3"
  },
  "language_info": {
   "codemirror_mode": {
    "name": "ipython",
    "version": 3
   },
   "file_extension": ".py",
   "mimetype": "text/x-python",
   "name": "python",
   "nbconvert_exporter": "python",
   "pygments_lexer": "ipython3",
   "version": "3.8.8"
  }
 },
 "nbformat": 4,
 "nbformat_minor": 1
}
